{
 "cells": [
  {
   "cell_type": "markdown",
   "id": "9cc94a24-0957-4600-a63c-39302a7bfcb2",
   "metadata": {},
   "source": [
    "# Data Collection\n",
    "### traffic data, weather data, events data(Public holidays)"
   ]
  },
  {
   "cell_type": "code",
   "execution_count": 2,
   "id": "6099ae63-1e20-4e62-b623-19c40fc1c1d7",
   "metadata": {},
   "outputs": [
    {
     "name": "stderr",
     "output_type": "stream",
     "text": [
      "C:\\Users\\sayali\\AppData\\Local\\Temp\\ipykernel_16736\\79064363.py:6: UserWarning: Could not infer format, so each element will be parsed individually, falling back to `dateutil`. To ensure parsing is consistent and as-expected, please specify a format.\n",
      "  traffic_data['DateTime'] = pd.to_datetime(traffic_data['DateTime'])\n"
     ]
    }
   ],
   "source": [
    "import pandas as pd\n",
    "import numpy as np\n",
    "\n",
    "# Load the traffic data\n",
    "traffic_data = pd.read_csv('Dataset_Uber Traffic.csv')\n",
    "traffic_data['DateTime'] = pd.to_datetime(traffic_data['DateTime'])\n",
    "\n",
    "# Load the weather data\n",
    "weather_data = pd.read_csv('weather.csv')\n",
    "weather_data['DateTime'] = pd.to_datetime(weather_data['date_time'])\n",
    "\n",
    "# Load the event data\n",
    "event_data = pd.read_csv('Holidays2018.csv')\n",
    "event_data['DateTime'] = pd.to_datetime(event_data['date'])  # Convert 'date' to 'DateTime'"
   ]
  },
  {
   "cell_type": "markdown",
   "id": "1e806e08-8139-4b44-882d-aa046fcddd13",
   "metadata": {},
   "source": [
    "# data synchronizing based on timestamps to align traffic data with corresponding weather conditions and events."
   ]
  },
  {
   "cell_type": "code",
   "execution_count": 3,
   "id": "9ddb0055-d119-4a2e-9a6c-0480be3f7257",
   "metadata": {},
   "outputs": [],
   "source": [
    "# Extract the year from the traffic data to align with\n",
    "traffic_year = traffic_data['DateTime'].dt.year.unique()[0]\n",
    "\n",
    "def adjust_year(df, target_year):\n",
    "    def replace_year(x):\n",
    "        try:\n",
    "            return x.replace(year=target_year)\n",
    "        except ValueError:\n",
    "            # Handle the February 29 case for leap years\n",
    "            if x.month == 2 and x.day == 29:\n",
    "                return x.replace(month=2, day=28, year=target_year)\n",
    "            else:\n",
    "                raise\n",
    "\n",
    "    df['DateTime'] = df['DateTime'].apply(replace_year)\n",
    "    return df\n",
    "\n",
    "# Adjust the year in weather data\n",
    "weather_data = adjust_year(weather_data, traffic_year)\n",
    "\n",
    "# Adjust the year in event data\n",
    "event_data = adjust_year(event_data, traffic_year)"
   ]
  },
  {
   "cell_type": "markdown",
   "id": "8fee92ce-0a5b-41cb-b243-1589d7c7ab84",
   "metadata": {},
   "source": [
    "# Data Integration"
   ]
  },
  {
   "cell_type": "markdown",
   "id": "870420a5-057f-438f-81e6-1ddeb7d45261",
   "metadata": {},
   "source": [
    "### Merge the data"
   ]
  },
  {
   "cell_type": "code",
   "execution_count": 4,
   "id": "e020cb26-467f-44c1-882b-80077cf19be8",
   "metadata": {},
   "outputs": [],
   "source": [
    "# Merge the datasets on DateTime\n",
    "combined_data = pd.merge(traffic_data, weather_data, on='DateTime', how='left')\n",
    "combined_data = pd.merge(combined_data, event_data, on='DateTime', how='left')"
   ]
  },
  {
   "cell_type": "markdown",
   "id": "57053b82-47c6-48a6-948b-c13d214776f0",
   "metadata": {},
   "source": [
    "### cleaning"
   ]
  },
  {
   "cell_type": "code",
   "execution_count": 5,
   "id": "70676541-9e85-426d-9811-f55510e16988",
   "metadata": {},
   "outputs": [
    {
     "name": "stderr",
     "output_type": "stream",
     "text": [
      "C:\\Users\\sayali\\AppData\\Local\\Temp\\ipykernel_16736\\547528690.py:5: FutureWarning: DataFrame.fillna with 'method' is deprecated and will raise in a future version. Use obj.ffill() or obj.bfill() instead.\n",
      "  combined_data = combined_data.fillna(method='ffill')  # Example: forward fill\n"
     ]
    }
   ],
   "source": [
    "# Remove duplicates\n",
    "combined_data = combined_data.drop_duplicates()\n",
    "\n",
    "# Handle missing values\n",
    "combined_data = combined_data.fillna(method='ffill')  # Example: forward fill"
   ]
  },
  {
   "cell_type": "markdown",
   "id": "bfbfbf02-53b6-4ff7-8ae4-deab509d5200",
   "metadata": {},
   "source": [
    "### Normalize"
   ]
  },
  {
   "cell_type": "code",
   "execution_count": 6,
   "id": "57c58b5b-83fa-477d-9c0e-2f178dbf4da8",
   "metadata": {},
   "outputs": [
    {
     "name": "stdout",
     "output_type": "stream",
     "text": [
      "Index(['DateTime', 'Junction', 'Vehicles', 'ID', 'date_time', 'maxtempC',\n",
      "       'mintempC', 'totalSnow_cm', 'sunHour', 'uvIndex', 'uvIndex.1',\n",
      "       'moon_illumination', 'moonrise', 'moonset', 'sunrise', 'sunset',\n",
      "       'DewPointC', 'FeelsLikeC', 'HeatIndexC', 'WindChillC', 'WindGustKmph',\n",
      "       'cloudcover', 'humidity', 'precipMM', 'pressure', 'tempC', 'visibility',\n",
      "       'winddirDegree', 'windspeedKmph', 'date', 'day', 'holiday',\n",
      "       'holiday_type'],\n",
      "      dtype='object')\n"
     ]
    }
   ],
   "source": [
    "print(combined_data.columns)"
   ]
  },
  {
   "cell_type": "code",
   "execution_count": 7,
   "id": "7073b11e-c76a-428d-97ee-3876d772c379",
   "metadata": {},
   "outputs": [],
   "source": [
    "from sklearn.preprocessing import StandardScaler\n",
    "\n",
    "# Normalize the relevant columns\n",
    "scaler = StandardScaler()\n",
    "combined_data[['tempC', 'humidity', 'windspeedKmph']] = scaler.fit_transform(combined_data[['tempC', 'humidity', 'windspeedKmph']])\n",
    "\n",
    "# Save the cleaned and merged data\n",
    "combined_data.to_csv('combined_data.csv', index=False)"
   ]
  },
  {
   "cell_type": "markdown",
   "id": "dc9e3295-b9ad-4917-9cca-8ef2bfccd2a6",
   "metadata": {},
   "source": [
    "### Displaying merged data"
   ]
  },
  {
   "cell_type": "code",
   "execution_count": 8,
   "id": "cc6726d0-561f-4478-88e0-4eed7001d225",
   "metadata": {},
   "outputs": [
    {
     "name": "stdout",
     "output_type": "stream",
     "text": [
      "    DateTime  Junction  Vehicles           ID            date_time  maxtempC  \\\n",
      "0 2015-01-11         1        15  20151101001  2009-01-11 00:00:00      27.0   \n",
      "1 2015-01-11         1        15  20151101001  2010-01-11 00:00:00      26.0   \n",
      "2 2015-01-11         1        15  20151101001  2011-01-11 00:00:00      28.0   \n",
      "3 2015-01-11         1        15  20151101001  2012-01-11 00:00:00      29.0   \n",
      "4 2015-01-11         1        15  20151101001  2013-01-11 00:00:00      29.0   \n",
      "5 2015-01-11         1        15  20151101001  2014-01-11 00:00:00      28.0   \n",
      "6 2015-01-11         1        15  20151101001  2015-01-11 00:00:00      26.0   \n",
      "7 2015-01-11         1        15  20151101001  2016-01-11 00:00:00      27.0   \n",
      "8 2015-01-11         1        15  20151101001  2017-01-11 00:00:00      26.0   \n",
      "9 2015-01-11         1        15  20151101001  2018-01-11 00:00:00      27.0   \n",
      "\n",
      "   mintempC  totalSnow_cm  sunHour  uvIndex  ...  precipMM  pressure  \\\n",
      "0      15.0           0.0     11.6      6.0  ...       0.0    1016.0   \n",
      "1      17.0           0.0     11.6      5.0  ...       0.0    1015.0   \n",
      "2      14.0           0.0     11.6      5.0  ...       0.0    1012.0   \n",
      "3      17.0           0.0     11.6      5.0  ...       0.0    1014.0   \n",
      "4      16.0           0.0     11.6      6.0  ...       0.0    1014.0   \n",
      "5      15.0           0.0     11.6      6.0  ...       0.0    1014.0   \n",
      "6      12.0           0.0     11.6      5.0  ...       0.0    1017.0   \n",
      "7      14.0           0.0     11.6      5.0  ...       0.0    1017.0   \n",
      "8      16.0           0.0     10.2      6.0  ...       0.0    1013.0   \n",
      "9      18.0           0.0     11.6      6.0  ...       0.0    1016.0   \n",
      "\n",
      "      tempC visibility winddirDegree windspeedKmph  date  day  holiday  \\\n",
      "0 -1.250127       10.0         100.0     -0.654230   NaN  NaN      NaN   \n",
      "1 -0.637934        2.0         130.0     -1.136464   NaN  NaN      NaN   \n",
      "2 -1.862320       10.0          32.0     -0.895347   NaN  NaN      NaN   \n",
      "3 -0.637934       10.0         193.0     -1.859814   NaN  NaN      NaN   \n",
      "4 -1.250127       10.0          93.0     -0.171996   NaN  NaN      NaN   \n",
      "5 -1.556224       10.0         108.0     -0.413113   NaN  NaN      NaN   \n",
      "6 -2.474513       10.0          53.0     -0.654230   NaN  NaN      NaN   \n",
      "7 -1.862320       10.0          95.0     -0.413113   NaN  NaN      NaN   \n",
      "8 -1.250127       10.0          83.0     -1.136464   NaN  NaN      NaN   \n",
      "9 -0.944031       10.0         101.0     -0.895347   NaN  NaN      NaN   \n",
      "\n",
      "   holiday_type  \n",
      "0           NaN  \n",
      "1           NaN  \n",
      "2           NaN  \n",
      "3           NaN  \n",
      "4           NaN  \n",
      "5           NaN  \n",
      "6           NaN  \n",
      "7           NaN  \n",
      "8           NaN  \n",
      "9           NaN  \n",
      "\n",
      "[10 rows x 33 columns]\n"
     ]
    }
   ],
   "source": [
    "# Displaying the first 10 rows\n",
    "print(combined_data.head(10))"
   ]
  },
  {
   "cell_type": "code",
   "execution_count": null,
   "id": "7119b255-7381-45fa-9744-5088531f77bf",
   "metadata": {},
   "outputs": [],
   "source": []
  }
 ],
 "metadata": {
  "kernelspec": {
   "display_name": "Python 3 (ipykernel)",
   "language": "python",
   "name": "python3"
  },
  "language_info": {
   "codemirror_mode": {
    "name": "ipython",
    "version": 3
   },
   "file_extension": ".py",
   "mimetype": "text/x-python",
   "name": "python",
   "nbconvert_exporter": "python",
   "pygments_lexer": "ipython3",
   "version": "3.12.7"
  }
 },
 "nbformat": 4,
 "nbformat_minor": 5
}
